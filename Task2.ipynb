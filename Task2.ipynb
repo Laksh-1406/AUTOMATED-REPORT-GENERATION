{
 "cells": [
  {
   "cell_type": "code",
   "execution_count": 1,
   "id": "c80e5588-f6f9-4e51-97a8-035d5d7af5b8",
   "metadata": {},
   "outputs": [
    {
     "ename": "ModuleNotFoundError",
     "evalue": "No module named 'fpdf'",
     "output_type": "error",
     "traceback": [
      "\u001b[1;31m---------------------------------------------------------------------------\u001b[0m",
      "\u001b[1;31mModuleNotFoundError\u001b[0m                       Traceback (most recent call last)",
      "Cell \u001b[1;32mIn[1], line 4\u001b[0m\n\u001b[0;32m      2\u001b[0m \u001b[38;5;28;01mimport\u001b[39;00m \u001b[38;5;21;01mmatplotlib\u001b[39;00m\u001b[38;5;21;01m.\u001b[39;00m\u001b[38;5;21;01mpyplot\u001b[39;00m \u001b[38;5;28;01mas\u001b[39;00m \u001b[38;5;21;01mplt\u001b[39;00m\n\u001b[0;32m      3\u001b[0m \u001b[38;5;28;01mimport\u001b[39;00m \u001b[38;5;21;01mseaborn\u001b[39;00m \u001b[38;5;28;01mas\u001b[39;00m \u001b[38;5;21;01msns\u001b[39;00m\n\u001b[1;32m----> 4\u001b[0m \u001b[38;5;28;01mfrom\u001b[39;00m \u001b[38;5;21;01mfpdf\u001b[39;00m \u001b[38;5;28;01mimport\u001b[39;00m FPDF\n\u001b[0;32m      5\u001b[0m \u001b[38;5;28;01mimport\u001b[39;00m \u001b[38;5;21;01mtextwrap\u001b[39;00m\n\u001b[0;32m      7\u001b[0m \u001b[38;5;66;03m# Step 1: Load Data from CSV\u001b[39;00m\n",
      "\u001b[1;31mModuleNotFoundError\u001b[0m: No module named 'fpdf'"
     ]
    }
   ],
   "source": [
    "import pandas as pd\n",
    "import matplotlib.pyplot as plt\n",
    "import seaborn as sns\n",
    "from fpdf import FPDF\n",
    "import textwrap\n",
    "\n",
    "# Step 1: Load Data from CSV\n",
    "file_path = \"cleaned_amazon1.csv\"  # Replace with your file path\n",
    "df = pd.read_csv(file_path)\n",
    "\n",
    "# Step 2: Data Analysis\n",
    "summary = df.describe()  # Get statistical summary\n",
    "top_products = df.groupby(\"product_name\")[\"actual_price\"].sum().sort_values(ascending=False).head(5)  # Top 5 products\n",
    "\n",
    "# Wrap or Truncate Product Names\n",
    "def wrap_labels(labels, width=20):\n",
    "    return [\"\\n\".join(textwrap.wrap(label, width)) for label in labels]\n",
    "\n",
    "wrapped_labels = wrap_labels(top_products.index)\n",
    "\n",
    "# Data Visualization\n",
    "plt.figure(figsize=(12, 7))\n",
    "sns.barplot(x=wrapped_labels, y=top_products.values, palette=\"Blues_r\")\n",
    "\n",
    "plt.xlabel(\"Product\", fontsize=12)\n",
    "plt.ylabel(\"Total Sales\", fontsize=12)\n",
    "plt.title(\"Top 5 Best-Selling Products\", fontsize=14)\n",
    "plt.xticks(rotation=45, ha=\"right\", fontsize=10)  # Rotate & align properly\n",
    "\n",
    "plt.subplots_adjust(bottom=0.5)  # Increase bottom margin to prevent cut-off\n",
    "plt.savefig(\"sales_chart_fixed.png\", bbox_inches=\"tight\")\n",
    "plt.show()\n",
    "\n",
    "# Step 4: Generate PDF Report\n",
    "class PDF(FPDF):\n",
    "    def header(self):\n",
    "        self.set_font(\"Arial\", \"B\", 16)\n",
    "        self.cell(200, 10, \"Sales Report\", ln=True, align=\"C\")\n",
    "        self.ln(10)\n",
    "\n",
    "pdf = PDF()\n",
    "pdf.set_auto_page_break(auto=True, margin=15)\n",
    "pdf.add_page()\n",
    "pdf.set_font(\"Arial\", size=12)\n",
    "\n",
    "# Add Summary Table\n",
    "pdf.cell(200, 10, \"Sales Summary Statistics\", ln=True, align=\"C\")\n",
    "pdf.ln(10)\n",
    "\n",
    "# Add table header\n",
    "col_width = 40  # Adjusted column width\n",
    "pdf.set_font(\"Arial\", \"B\", 10)\n",
    "for column in summary.columns:\n",
    "    pdf.cell(col_width, 10, column, 1)\n",
    "pdf.ln()\n",
    "\n",
    "# Add table rows\n",
    "pdf.set_font(\"Arial\", size=10)\n",
    "for index, row in summary.iterrows():\n",
    "    for column in summary.columns:\n",
    "        pdf.cell(col_width, 10, f\"{row[column]:.2f}\", 1)\n",
    "    pdf.ln()\n",
    "\n",
    "pdf.ln(10)\n",
    "\n",
    "# Add Top Products Section\n",
    "pdf.set_font(\"Arial\", \"B\", 12)\n",
    "pdf.cell(200, 10, \"Top 5 Best-Selling Products\", ln=True, align=\"C\")\n",
    "pdf.ln(10)\n",
    "\n",
    "pdf.set_font(\"Arial\", size=10)\n",
    "for product, sales in top_products.items():\n",
    "    pdf.cell(0, 10, f\"{product}: ${sales:.2f}\", ln=True)\n",
    "\n",
    "pdf.ln(10)\n",
    "\n",
    "# Add Visualization\n",
    "pdf.set_font(\"Arial\", \"B\", 12)\n",
    "pdf.cell(200, 10, \"Sales Chart\", ln=True, align=\"C\")\n",
    "pdf.ln(10)\n",
    "pdf.image(\"sales_chart_fixed.png\", x=30, w=150)\n",
    "\n",
    "# Save Report\n",
    "pdf.output(\"Sales_Report1.pdf\")\n",
    "\n",
    "print(\"✅ PDF Report Generated: Sales_Report.pdf\")\n"
   ]
  },
  {
   "cell_type": "code",
   "execution_count": 2,
   "id": "195732bf-94c1-42de-ba02-2887841d9032",
   "metadata": {},
   "outputs": [
    {
     "name": "stdout",
     "output_type": "stream",
     "text": [
      "Defaulting to user installation because normal site-packages is not writeable\n",
      "Collecting fpdf\n",
      "  Downloading fpdf-1.7.2.tar.gz (39 kB)\n",
      "  Preparing metadata (setup.py): started\n",
      "  Preparing metadata (setup.py): finished with status 'done'\n",
      "Building wheels for collected packages: fpdf\n",
      "  Building wheel for fpdf (setup.py): started\n",
      "  Building wheel for fpdf (setup.py): finished with status 'done'\n",
      "  Created wheel for fpdf: filename=fpdf-1.7.2-py2.py3-none-any.whl size=40714 sha256=45993b399a591c892340443246565cc5249c35f18a7aebd23118284a12b2e491\n",
      "  Stored in directory: c:\\users\\sai\\appdata\\local\\pip\\cache\\wheels\\6e\\62\\11\\dc73d78e40a218ad52e7451f30166e94491be013a7850b5d75\n",
      "Successfully built fpdf\n",
      "Installing collected packages: fpdf\n",
      "Successfully installed fpdf-1.7.2\n"
     ]
    }
   ],
   "source": [
    "!pip install fpdf\n"
   ]
  },
  {
   "cell_type": "code",
   "execution_count": null,
   "id": "95fe148a-6aa4-44f9-8602-dbe6fdc7d184",
   "metadata": {},
   "outputs": [],
   "source": []
  }
 ],
 "metadata": {
  "kernelspec": {
   "display_name": "Python 3 (ipykernel)",
   "language": "python",
   "name": "python3"
  },
  "language_info": {
   "codemirror_mode": {
    "name": "ipython",
    "version": 3
   },
   "file_extension": ".py",
   "mimetype": "text/x-python",
   "name": "python",
   "nbconvert_exporter": "python",
   "pygments_lexer": "ipython3",
   "version": "3.12.7"
  }
 },
 "nbformat": 4,
 "nbformat_minor": 5
}
